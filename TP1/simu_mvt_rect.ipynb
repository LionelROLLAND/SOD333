{
 "cells": [
  {
   "cell_type": "code",
   "execution_count": null,
   "metadata": {},
   "outputs": [],
   "source": [
    "import numpy as np\n",
    "import matplotlib.pyplot as plt\n",
    "\n",
    "m_0 = np.array([5 * 10**3, -20, 5, 20])\n",
    "p_0 = np.diag([(2 * 10**3) ** 2, 20**2, (2 * 10**3) ** 2, 20**2])\n",
    "DELTA_T = 1\n",
    "N_VAL = 200\n",
    "cov = np.diag([2**2, 2**2])"
   ]
  },
  {
   "cell_type": "code",
   "execution_count": null,
   "metadata": {},
   "outputs": [],
   "source": [
    "def simu_etat(\n",
    "    delta_t: float, n_val: int, m_0: np.ndarray, sigma: np.ndarray, cov: np.ndarray\n",
    "):\n",
    "    x_vec = np.empty(shape=(n_val + 1, 4, 1))\n",
    "\n",
    "    x_vec[0] = np.random.multivariate_normal(mean=m_0, cov=sigma, size=1).T\n",
    "\n",
    "    epsilon: np.ndarray = np.random.multivariate_normal(\n",
    "        mean=[0, 0], cov=cov, size=n_val\n",
    "    ).reshape((n_val, 2, 1))\n",
    "\n",
    "    trans_mat = np.array(\n",
    "        [[1, delta_t, 0, 0], [0, 1, 0, 0], [0, 0, 1, delta_t], [0, 0, 0, 1]]\n",
    "    )\n",
    "\n",
    "    cov_mat = np.array(\n",
    "        [[delta_t**2 / 2, 0], [delta_t, 0], [0, delta_t**2 / 2], [0, delta_t]]\n",
    "    )\n",
    "\n",
    "    for k in range(n_val):\n",
    "        x_vec[k + 1] = trans_mat @ x_vec[k] + cov_mat @ epsilon[k]\n",
    "    return x_vec"
   ]
  },
  {
   "cell_type": "code",
   "execution_count": null,
   "metadata": {},
   "outputs": [],
   "source": [
    "x_val = simu_etat(delta_t=DELTA_T, n_val=N_VAL, m_0=m_0, sigma=p_0, cov=cov)"
   ]
  },
  {
   "cell_type": "code",
   "execution_count": null,
   "metadata": {},
   "outputs": [],
   "source": [
    "h_mat = np.array([[1, 0, 0, 0], [0, 0, 1, 0]])\n",
    "r_mat = np.diag([10**2, 10**2])\n",
    "\n",
    "\n",
    "def simu_obs(x_val: np.ndarray, h_mat: np.ndarray, r_mat: np.ndarray):\n",
    "    n_val = x_val.shape[0]\n",
    "    y_vec = np.empty(shape=(n_val, h_mat.shape[0], 1))\n",
    "    v_val = np.random.multivariate_normal(\n",
    "        mean=np.zeros(shape=(r_mat.shape[0],)), cov=r_mat, size=n_val\n",
    "    ).reshape((n_val, r_mat.shape[0], 1))\n",
    "    for k in range(x_val.shape[0]):\n",
    "        y_vec[k] = h_mat @ x_val[k] + v_val[k]\n",
    "    return y_vec"
   ]
  },
  {
   "cell_type": "code",
   "execution_count": null,
   "metadata": {},
   "outputs": [],
   "source": [
    "y_val = simu_obs(x_val=x_val, h_mat=h_mat, r_mat=r_mat)"
   ]
  },
  {
   "cell_type": "code",
   "execution_count": null,
   "metadata": {},
   "outputs": [],
   "source": [
    "def kalman_filter(\n",
    "    y_vec: np.ndarray,\n",
    "    f_mat: np.ndarray,\n",
    "    g_mat: np.ndarray,\n",
    "    m_0: np.ndarray,\n",
    "    p_0: np.ndarray,\n",
    "    c_mat: np.ndarray,\n",
    "    h_mat: np.ndarray,\n",
    "    r_mat: np.ndarray,\n",
    "):\n",
    "    n_val = y_vec.shape[0]\n",
    "    x_size = f_mat.shape[0]\n",
    "    x_vec = np.empty(shape=(n_val, x_size, 1))\n",
    "    x_vec[0] = m_0.reshape((x_size, 1))\n",
    "    p_mat = np.empty(shape=(n_val, x_size, x_size))\n",
    "    p_mat[0] = p_0\n",
    "    k_mat = np.empty(shape=(n_val, x_size, h_mat.shape[0]))\n",
    "    id_n = np.eye(x_size)\n",
    "    for k in range(n_val - 1):\n",
    "        x_pred = f_mat @ x_vec[k]\n",
    "        p_pred = f_mat @ p_mat[k] @ (f_mat.T) + g_mat @ c_mat @ (g_mat.T)\n",
    "        k_mat[k + 1] = (\n",
    "            p_pred @ (h_mat.T) @ np.linalg.inv(h_mat @ p_pred @ (h_mat.T) + r_mat)\n",
    "        )\n",
    "        x_vec[k + 1] = x_pred + k_mat[k + 1] @ (y_vec[k + 1] - h_mat @ x_pred)\n",
    "        p_mat[k + 1] = (id_n - k_mat[k + 1] @ h_mat) @ p_pred\n",
    "    return x_vec"
   ]
  },
  {
   "cell_type": "code",
   "execution_count": null,
   "metadata": {},
   "outputs": [],
   "source": [
    "trans_mat = np.array(\n",
    "    [[1, DELTA_T, 0, 0], [0, 1, 0, 0], [0, 0, 1, DELTA_T], [0, 0, 0, 1]]\n",
    ")\n",
    "cov_mat = np.array(\n",
    "    [[DELTA_T**2 / 2, 0], [DELTA_T, 0], [0, DELTA_T**2 / 2], [0, DELTA_T]]\n",
    ")\n",
    "\n",
    "x_hat = kalman_filter(\n",
    "    y_vec=y_val,\n",
    "    f_mat=trans_mat,\n",
    "    g_mat=cov_mat,\n",
    "    m_0=m_0,\n",
    "    p_0=p_0,\n",
    "    c_mat=cov,\n",
    "    h_mat=h_mat,\n",
    "    r_mat=r_mat,\n",
    ")"
   ]
  },
  {
   "cell_type": "code",
   "execution_count": null,
   "metadata": {},
   "outputs": [],
   "source": [
    "%matplotlib inline\n",
    "START = 0\n",
    "END = 150\n",
    "plt.figure(figsize=(15, 15))\n",
    "plt.plot(x_val[START:END, 0, 0], x_val[START:END, 2, 0], label=\"X\")\n",
    "plt.plot(y_val[START:END, 0, 0], y_val[START:END, 1, 0], label=\"Y\")\n",
    "plt.plot(x_hat[START + 1 : END, 0, 0], x_hat[START + 1 : END, 2, 0], label=\"$\\\\hat{X}$\")\n",
    "plt.legend(loc=\"upper center\", shadow=True, fontsize=\"x-large\")\n",
    "plt.show()"
   ]
  }
 ],
 "metadata": {
  "kernelspec": {
   "display_name": "SOD333-3.11.2",
   "language": "python",
   "name": "python3"
  },
  "language_info": {
   "codemirror_mode": {
    "name": "ipython",
    "version": 3
   },
   "file_extension": ".py",
   "mimetype": "text/x-python",
   "name": "python",
   "nbconvert_exporter": "python",
   "pygments_lexer": "ipython3",
   "version": "3.11.2"
  },
  "orig_nbformat": 4
 },
 "nbformat": 4,
 "nbformat_minor": 2
}
