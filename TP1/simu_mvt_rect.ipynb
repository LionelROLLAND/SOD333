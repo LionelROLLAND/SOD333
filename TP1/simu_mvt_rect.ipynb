{
 "cells": [
  {
   "cell_type": "markdown",
   "metadata": {},
   "source": [
    "# Filtre de Kalman\n",
    "\n",
    "## Cas linéaire\n",
    "\n",
    "### Simulation trajectoire et observation"
   ]
  },
  {
   "cell_type": "code",
   "execution_count": null,
   "metadata": {},
   "outputs": [],
   "source": [
    "from dataclasses import dataclass, field\n",
    "from typing import Callable\n",
    "\n",
    "import numpy as np\n",
    "import matplotlib.pyplot as plt\n",
    "from scipy.stats import norm as normal\n",
    "\n",
    "\n",
    "@dataclass\n",
    "class ProcParams:\n",
    "    \"\"\"Stocke les parametres du processus aleatoire.\"\"\"\n",
    "\n",
    "    n_val: int\n",
    "    delta_t: float\n",
    "    p_0: np.ndarray\n",
    "    m_0: np.ndarray = field(default_factory=lambda: np.array([]))\n",
    "    f_mat: np.ndarray = field(default_factory=lambda: np.array([]))\n",
    "    c_mat: np.ndarray = field(default_factory=lambda: np.array([]))\n",
    "    g_mat: np.ndarray = field(default_factory=lambda: np.array([]))\n",
    "\n",
    "    @property\n",
    "    def x_size(self) -> int:\n",
    "        return self.p_0.shape[0]\n",
    "\n",
    "\n",
    "@dataclass\n",
    "class ObsParams:\n",
    "    \"\"\"Stocke les parametres des observations.\"\"\"\n",
    "\n",
    "    r_mat: np.ndarray\n",
    "    h_mat_or_fun: np.ndarray | Callable[[np.ndarray], np.ndarray] = field(\n",
    "        default_factory=lambda: np.array([])\n",
    "    )\n",
    "    h_jacobian: Callable[[np.ndarray], np.ndarray] = lambda _: np.array([])\n",
    "\n",
    "    @property\n",
    "    def y_size(self) -> int:\n",
    "        return self.r_mat.shape[0]\n",
    "\n",
    "\n",
    "@dataclass\n",
    "class PbValues:\n",
    "    \"\"\"Stocke les valeurs associes au probleme.\"\"\"\n",
    "\n",
    "    x_val: np.ndarray = field(default_factory=lambda: np.array([]))\n",
    "    y_val: np.ndarray = field(default_factory=lambda: np.array([]))\n",
    "    x_hat: np.ndarray = field(default_factory=lambda: np.array([]))\n",
    "    p_hat: np.ndarray = field(default_factory=lambda: np.array([]))\n",
    "\n",
    "\n",
    "proc_params = ProcParams(\n",
    "    n_val=2000,\n",
    "    delta_t=1,\n",
    "    m_0=np.array([5 * 10**3, -20, 5, 20]),\n",
    "    p_0=np.diag([(2 * 10**3) ** 2, 20**2, (2 * 10**3) ** 2, 20**2]),\n",
    "    c_mat=np.diag([2**2, 2**2]),\n",
    ")\n",
    "\n",
    "rd = np.random.default_rng(10)"
   ]
  },
  {
   "cell_type": "code",
   "execution_count": null,
   "metadata": {},
   "outputs": [],
   "source": [
    "def simu_etat(params: ProcParams) -> tuple[ProcParams, PbValues]:\n",
    "    values = PbValues(x_val=np.empty(shape=(params.n_val + 1, 4, 1)))\n",
    "\n",
    "    values.x_val[0] = rd.multivariate_normal(mean=params.m_0, cov=params.p_0, size=1).T\n",
    "\n",
    "    epsilon: np.ndarray = rd.multivariate_normal(\n",
    "        mean=[0, 0], cov=params.c_mat, size=params.n_val\n",
    "    ).reshape((params.n_val, 2, 1))\n",
    "\n",
    "    params.f_mat = np.array(\n",
    "        [\n",
    "            [1, params.delta_t, 0, 0],\n",
    "            [0, 1, 0, 0],\n",
    "            [0, 0, 1, params.delta_t],\n",
    "            [0, 0, 0, 1],\n",
    "        ]\n",
    "    )\n",
    "\n",
    "    params.g_mat = np.array(\n",
    "        [\n",
    "            [params.delta_t**2 / 2, 0],\n",
    "            [params.delta_t, 0],\n",
    "            [0, params.delta_t**2 / 2],\n",
    "            [0, params.delta_t],\n",
    "        ]\n",
    "    )\n",
    "\n",
    "    for k in range(params.n_val):\n",
    "        values.x_val[k + 1] = params.f_mat @ values.x_val[k] + params.g_mat @ epsilon[k]\n",
    "    return params, values"
   ]
  },
  {
   "cell_type": "code",
   "execution_count": null,
   "metadata": {},
   "outputs": [],
   "source": [
    "proc_params, vals = simu_etat(proc_params)"
   ]
  },
  {
   "cell_type": "code",
   "execution_count": null,
   "metadata": {},
   "outputs": [],
   "source": [
    "obs_params = ObsParams(\n",
    "    r_mat=np.diag([8**2, 8**2]), h_mat_or_fun=np.array([[1, 0, 0, 0], [0, 0, 1, 0]])\n",
    ")\n",
    "\n",
    "h_mat = np.array([[1, 0, 0, 0], [0, 0, 1, 0]])\n",
    "r_mat = np.diag([8**2, 8**2])\n",
    "\n",
    "\n",
    "def simu_obs(params: ProcParams, values: PbValues, obs_par: ObsParams) -> PbValues:\n",
    "    values.y_val = np.empty(shape=(params.n_val, obs_par.y_size, 1))\n",
    "    v_val = rd.multivariate_normal(\n",
    "        mean=np.zeros(shape=(obs_par.y_size,)), cov=obs_par.r_mat, size=params.n_val\n",
    "    ).reshape((params.n_val, obs_par.y_size, 1))\n",
    "    for k in range(params.n_val):\n",
    "        values.y_val[k] = obs_par.h_mat_or_fun @ values.x_val[k] + v_val[k]\n",
    "    return values"
   ]
  },
  {
   "cell_type": "code",
   "execution_count": null,
   "metadata": {},
   "outputs": [],
   "source": [
    "vals = simu_obs(params=proc_params, values=vals, obs_par=obs_params)"
   ]
  },
  {
   "cell_type": "markdown",
   "metadata": {},
   "source": [
    "### Filtre de Kalman"
   ]
  },
  {
   "cell_type": "code",
   "execution_count": null,
   "metadata": {},
   "outputs": [],
   "source": [
    "def kalman_filter(\n",
    "    params: ProcParams,\n",
    "    values: PbValues,\n",
    "    obs_par: ObsParams,\n",
    ") -> PbValues:\n",
    "    values.x_hat = np.empty(shape=(params.n_val, params.x_size, 1))\n",
    "    values.p_hat = np.empty(shape=(params.n_val, params.x_size, params.x_size))\n",
    "    k_mat = np.empty(shape=(params.n_val, params.x_size, obs_par.y_size))\n",
    "    h_mat = obs_par.h_mat_or_fun\n",
    "    assert isinstance(h_mat, np.ndarray)  # nosec\n",
    "    id_n = np.eye(params.x_size)\n",
    "    x_pred = params.m_0.reshape((params.x_size, 1))\n",
    "    p_pred = params.p_0\n",
    "    for k in range(params.n_val):\n",
    "        # Correction de l'etape precedente\n",
    "        k_mat[k] = (\n",
    "            p_pred\n",
    "            @ (h_mat.T)\n",
    "            @ np.linalg.inv(h_mat @ p_pred @ (h_mat.T) + obs_par.r_mat)\n",
    "        )\n",
    "        values.x_hat[k] = x_pred + k_mat[k] @ (values.y_val[k] - h_mat @ x_pred)\n",
    "        values.p_hat[k] = (id_n - k_mat[k] @ h_mat) @ p_pred\n",
    "        # Prediction\n",
    "        x_pred = params.f_mat @ values.x_hat[k]\n",
    "        p_pred = params.f_mat @ values.p_hat[k] @ (\n",
    "            params.f_mat.T\n",
    "        ) + params.g_mat @ params.c_mat @ (params.g_mat.T)\n",
    "    return values"
   ]
  },
  {
   "cell_type": "code",
   "execution_count": null,
   "metadata": {},
   "outputs": [],
   "source": [
    "vals = kalman_filter(\n",
    "    params=proc_params,\n",
    "    values=vals,\n",
    "    obs_par=obs_params,\n",
    ")"
   ]
  },
  {
   "cell_type": "markdown",
   "metadata": {},
   "source": [
    "### Contrôle des résultats"
   ]
  },
  {
   "cell_type": "code",
   "execution_count": null,
   "metadata": {},
   "outputs": [],
   "source": [
    "def show_full_traj(values: PbValues, start: int, end: int) -> None:\n",
    "    plt.figure(figsize=(15, 15))\n",
    "    plt.plot(\n",
    "        values.x_val[start:end, 0, 0],\n",
    "        values.x_val[start:end, 2, 0],\n",
    "        label=\"X\",\n",
    "        color=\"blue\",\n",
    "    )\n",
    "    plt.plot(\n",
    "        values.y_val[start:end, 0, 0],\n",
    "        values.y_val[start:end, 1, 0],\n",
    "        label=\"Y\",\n",
    "        color=\"orange\",\n",
    "    )\n",
    "    plt.plot(\n",
    "        values.x_hat[start:end, 0, 0],\n",
    "        values.x_hat[start:end, 2, 0],\n",
    "        label=\"$\\\\hat{X}$\",\n",
    "        color=\"green\",\n",
    "    )\n",
    "    plt.legend(loc=\"upper center\", shadow=True)\n",
    "    plt.show()\n",
    "\n",
    "\n",
    "def show_confidence_interval(\n",
    "    params: ProcParams, values: PbValues, coord: int, start: int, end: int, name: str\n",
    ") -> None:\n",
    "    time = params.delta_t * np.array(range(params.n_val))\n",
    "    std_975_perc = normal.ppf(0.975)\n",
    "    std_dev = np.sqrt(values.p_hat[:, coord, coord])\n",
    "    plt.figure(figsize=(15, 15))\n",
    "    plt.plot(\n",
    "        time[start:end],\n",
    "        values.x_val[start:end, coord, 0],\n",
    "        color=\"blue\",\n",
    "        label=f\"${name}$\",\n",
    "    )\n",
    "    plt.plot(\n",
    "        time[start:end],\n",
    "        values.x_val[start:end, coord, 0] - std_975_perc * std_dev[start:end],\n",
    "        color=\"red\",\n",
    "        label=f\"${name}^{{95 \\\\%}}$\",\n",
    "    )\n",
    "    plt.plot(\n",
    "        time[start:end],\n",
    "        values.x_val[start:end, coord, 0] + std_975_perc * std_dev[start:end],\n",
    "        color=\"red\",\n",
    "    )\n",
    "    plt.plot(\n",
    "        time[start:end],\n",
    "        values.x_hat[start:end, coord, 0],\n",
    "        color=\"green\",\n",
    "        label=f\"$\\\\hat{{{name}}}$\",\n",
    "    )\n",
    "    plt.legend(loc=\"upper center\", shadow=True)\n",
    "    plt.show()"
   ]
  },
  {
   "cell_type": "code",
   "execution_count": null,
   "metadata": {},
   "outputs": [],
   "source": [
    "%matplotlib inline\n",
    "START = 20\n",
    "END = 90\n",
    "\n",
    "show_full_traj(values=vals, start=START, end=END)"
   ]
  },
  {
   "cell_type": "code",
   "execution_count": null,
   "metadata": {},
   "outputs": [],
   "source": [
    "show_confidence_interval(\n",
    "    params=proc_params, values=vals, coord=0, start=START, end=END, name=\"X_0\"\n",
    ")"
   ]
  },
  {
   "cell_type": "code",
   "execution_count": null,
   "metadata": {},
   "outputs": [],
   "source": [
    "show_confidence_interval(\n",
    "    params=proc_params, values=vals, coord=2, start=START, end=END, name=\"X_1\"\n",
    ")"
   ]
  },
  {
   "cell_type": "markdown",
   "metadata": {},
   "source": [
    "## Cas non linéaire\n",
    "\n",
    "### Filtre de Kalman étendu"
   ]
  },
  {
   "cell_type": "code",
   "execution_count": null,
   "metadata": {},
   "outputs": [],
   "source": [
    "def extended_kalman_filter(\n",
    "    params: ProcParams,\n",
    "    values: PbValues,\n",
    "    obs_par: ObsParams,\n",
    ") -> PbValues:\n",
    "    values.x_hat = np.empty(shape=(params.n_val, params.x_size, 1))\n",
    "    values.p_hat = np.empty(shape=(params.n_val, params.x_size, params.x_size))\n",
    "    k_mat = np.empty(shape=(params.n_val, params.x_size, obs_par.y_size))\n",
    "    id_n = np.eye(params.x_size)\n",
    "    x_pred = params.m_0.reshape((params.x_size, 1))\n",
    "    p_pred = params.p_0\n",
    "    for k in range(params.n_val):\n",
    "        # Correction de l'etape precedente\n",
    "        h_mat = obs_par.h_jacobian(x_pred)\n",
    "        k_mat[k] = (\n",
    "            p_pred\n",
    "            @ (h_mat.T)\n",
    "            @ np.linalg.inv(h_mat @ p_pred @ (h_mat.T) + obs_par.r_mat)\n",
    "        )\n",
    "        values.x_hat[k] = x_pred + k_mat[k] @ (\n",
    "            values.y_val[k] - obs_par.h_mat_or_fun(x_pred)\n",
    "        )\n",
    "        values.p_hat[k] = (id_n - k_mat[k] @ h_mat) @ p_pred\n",
    "        # Prediction\n",
    "        x_pred = params.f_mat @ values.x_hat[k]\n",
    "        p_pred = params.f_mat @ values.p_hat[k] @ (\n",
    "            params.f_mat.T\n",
    "        ) + params.g_mat @ params.c_mat @ (params.g_mat.T)\n",
    "    return values"
   ]
  },
  {
   "cell_type": "markdown",
   "metadata": {},
   "source": [
    "### Simulation observation"
   ]
  },
  {
   "cell_type": "code",
   "execution_count": null,
   "metadata": {},
   "outputs": [],
   "source": [
    "def simu_obs2(params: ProcParams, values: PbValues, obs_par: ObsParams) -> PbValues:\n",
    "    values.y_val = np.empty(shape=(params.n_val, obs_par.y_size, 1))\n",
    "    v_val = rd.multivariate_normal(\n",
    "        mean=np.zeros(shape=(obs_par.y_size,)), cov=obs_par.r_mat, size=params.n_val\n",
    "    ).reshape((params.n_val, obs_par.y_size, 1))\n",
    "    for k in range(params.n_val):\n",
    "        values.y_val[k] = obs_par.h_mat_or_fun(values.x_val[k]) + v_val[k]\n",
    "    return values"
   ]
  },
  {
   "cell_type": "code",
   "execution_count": null,
   "metadata": {},
   "outputs": [],
   "source": [
    "def h_fun(x_val: np.ndarray) -> np.ndarray:\n",
    "    x, y = x_val[0, 0], x_val[2, 0]  # pylint: disable=invalid-name\n",
    "    return np.array([[x**2 + y**2], [np.arctan2(y, x)]])\n",
    "\n",
    "\n",
    "def h_jacobian(x_val: np.ndarray) -> np.ndarray:\n",
    "    x, y = x_val[0, 0], x_val[2, 0]  # pylint: disable=invalid-name\n",
    "    return np.array(\n",
    "        [[2 * x, 0, 2 * y, 0], [-y / (x**2 + y**2), 0, x / (x**2 + y**2), 0]]\n",
    "    )\n",
    "\n",
    "\n",
    "var_coeff = (2 / np.pi) ** (1 / 2)\n",
    "var_norm = (20**2 / var_coeff) ** 2\n",
    "r_mat2 = np.diag([var_norm, (np.pi / 180) ** 2])\n",
    "\n",
    "obs_params2 = ObsParams(r_mat=r_mat2, h_mat_or_fun=h_fun, h_jacobian=h_jacobian)\n",
    "vals2 = PbValues(x_val=vals.x_val)"
   ]
  },
  {
   "cell_type": "code",
   "execution_count": null,
   "metadata": {},
   "outputs": [],
   "source": [
    "vals2 = simu_obs2(params=proc_params, values=vals2, obs_par=obs_params2)\n",
    "\n",
    "vals2 = extended_kalman_filter(\n",
    "    params=proc_params,\n",
    "    values=vals2,\n",
    "    obs_par=obs_params2,\n",
    ")"
   ]
  },
  {
   "cell_type": "markdown",
   "metadata": {},
   "source": [
    "### Contrôle des résultats"
   ]
  },
  {
   "cell_type": "code",
   "execution_count": null,
   "metadata": {},
   "outputs": [],
   "source": [
    "def show_full_traj2(values: PbValues, start: int, end: int) -> None:\n",
    "    x_norm = np.sqrt(values.y_val[start:end, 0, 0])\n",
    "    x1_obs = np.cos(values.y_val[start:end, 1, 0]) * x_norm\n",
    "    x2_obs = np.sin(values.y_val[start:end, 1, 0]) * x_norm\n",
    "    plt.figure(figsize=(15, 15))\n",
    "    plt.plot(\n",
    "        values.x_val[start:end, 0, 0],\n",
    "        values.x_val[start:end, 2, 0],\n",
    "        label=\"X\",\n",
    "        color=\"blue\",\n",
    "    )\n",
    "    plt.plot(\n",
    "        x1_obs,\n",
    "        x2_obs,\n",
    "        label=\"Y\",\n",
    "        color=\"orange\",\n",
    "    )\n",
    "    plt.plot(\n",
    "        values.x_hat[start:end, 0, 0],\n",
    "        values.x_hat[start:end, 2, 0],\n",
    "        label=\"$\\\\hat{X}$\",\n",
    "        color=\"green\",\n",
    "    )\n",
    "    plt.legend(loc=\"upper center\", shadow=True)\n",
    "    plt.show()"
   ]
  },
  {
   "cell_type": "code",
   "execution_count": null,
   "metadata": {},
   "outputs": [],
   "source": [
    "show_full_traj2(values=vals2, start=START, end=END)"
   ]
  },
  {
   "cell_type": "code",
   "execution_count": null,
   "metadata": {},
   "outputs": [],
   "source": [
    "show_confidence_interval(\n",
    "    params=proc_params, values=vals2, coord=0, start=START, end=END, name=\"X_0\"\n",
    ")"
   ]
  },
  {
   "cell_type": "code",
   "execution_count": null,
   "metadata": {},
   "outputs": [],
   "source": [
    "show_confidence_interval(\n",
    "    params=proc_params, values=vals2, coord=2, start=START, end=END, name=\"X_1\"\n",
    ")"
   ]
  }
 ],
 "metadata": {
  "kernelspec": {
   "display_name": "SOD333-3.11.2",
   "language": "python",
   "name": "python3"
  },
  "language_info": {
   "codemirror_mode": {
    "name": "ipython",
    "version": 3
   },
   "file_extension": ".py",
   "mimetype": "text/x-python",
   "name": "python",
   "nbconvert_exporter": "python",
   "pygments_lexer": "ipython3",
   "version": "3.11.2"
  },
  "orig_nbformat": 4
 },
 "nbformat": 4,
 "nbformat_minor": 2
}
