{
 "cells": [
  {
   "cell_type": "markdown",
   "metadata": {},
   "source": [
    "# Estimation d'intégrale par méthode de Monte-Carlo\n",
    "\n",
    "## Méthode naïve (tirage par loi uniforme)"
   ]
  },
  {
   "cell_type": "code",
   "execution_count": null,
   "metadata": {},
   "outputs": [],
   "source": [
    "from typing import Callable, Any\n",
    "\n",
    "import numpy as np\n",
    "import matplotlib.pyplot as plt\n",
    "\n",
    "# from scipy.stats import norm as normal\n",
    "# from scipy.stats import uniform\n",
    "\n",
    "rd = np.random.default_rng(10)"
   ]
  },
  {
   "cell_type": "code",
   "execution_count": null,
   "metadata": {},
   "outputs": [],
   "source": [
    "def compute_integ_estimate(\n",
    "    fun: Callable[[Any], float], law: Callable[[int], np.ndarray], big_n: int\n",
    ") -> float:\n",
    "    return sum(fun(x) for x in law(big_n)) / big_n\n",
    "\n",
    "\n",
    "def cos_integ_estimate_unif(big_n: int):\n",
    "    return compute_integ_estimate(\n",
    "        fun=lambda x: np.cos(np.pi * x / 2),\n",
    "        law=lambda n: rd.uniform(low=0, high=1, size=n),\n",
    "        big_n=big_n,\n",
    "    )\n",
    "\n",
    "\n",
    "def show_stats(mu_ech: np.ndarray | list) -> None:\n",
    "    mean = sum(mu_ech) / len(mu_ech)\n",
    "    var = sum((e - mean) ** 2 for e in mu_ech) / (len(mu_ech) - 1)\n",
    "    print(2 / np.pi, mean, var)\n",
    "    plt.hist(mu_ech, bins=30)"
   ]
  },
  {
   "cell_type": "markdown",
   "metadata": {},
   "source": [
    "### 5000 tirages de $\\hat{\\mu}_{1000}$"
   ]
  },
  {
   "cell_type": "code",
   "execution_count": null,
   "metadata": {},
   "outputs": [],
   "source": [
    "mu_ech = [cos_integ_estimate_unif(1000) for _ in range(5000)]\n",
    "show_stats(mu_ech)"
   ]
  },
  {
   "cell_type": "markdown",
   "metadata": {},
   "source": [
    "### 5000 tirages de $\\hat{\\mu}_1$"
   ]
  },
  {
   "cell_type": "code",
   "execution_count": null,
   "metadata": {},
   "outputs": [],
   "source": [
    "mu_ech2 = [cos_integ_estimate_unif(1) for _ in range(5000)]\n",
    "show_stats(mu_ech2)"
   ]
  },
  {
   "cell_type": "markdown",
   "metadata": {},
   "source": [
    "## Modification de la loi de tirage"
   ]
  },
  {
   "cell_type": "code",
   "execution_count": null,
   "metadata": {},
   "outputs": [],
   "source": [
    "def new_law(\n",
    "    base_law: Callable[[], float],\n",
    "    majorant: float,\n",
    "    fun: Callable[[float], float],\n",
    "    n_ech: int,\n",
    ") -> np.ndarray:\n",
    "    res = np.empty((n_ech,), dtype=float)\n",
    "    current_index = 0\n",
    "    while current_index < n_ech:\n",
    "        while fun(candidate := base_law()) < majorant * rd.uniform(low=0, high=1):\n",
    "            pass\n",
    "        res[current_index] = candidate\n",
    "        current_index += 1\n",
    "    return res\n",
    "\n",
    "\n",
    "def q_tilde(number: float | np.ndarray) -> float | np.ndarray:\n",
    "    return 3 * (1 - number**2) / 2\n",
    "\n",
    "\n",
    "def modified_cos(number: float | np.ndarray) -> float | np.ndarray:\n",
    "    return np.cos(np.pi * number / 2) / q_tilde(number)\n",
    "\n",
    "\n",
    "def modified_law(n_ech: int) -> np.ndarray:\n",
    "    return new_law(\n",
    "        base_law=lambda: rd.uniform(low=0, high=1),\n",
    "        majorant=3 / 2,\n",
    "        fun=q_tilde,\n",
    "        n_ech=n_ech,\n",
    "    )\n",
    "\n",
    "\n",
    "def cos_integ_estimate_reject(big_n: int):\n",
    "    return compute_integ_estimate(\n",
    "        fun=modified_cos,\n",
    "        law=modified_law,\n",
    "        big_n=big_n,\n",
    "    )"
   ]
  },
  {
   "cell_type": "markdown",
   "metadata": {},
   "source": [
    "### 2000 tirages de $\\hat{\\mu}^2_{1000}$"
   ]
  },
  {
   "cell_type": "code",
   "execution_count": null,
   "metadata": {},
   "outputs": [],
   "source": [
    "reject_mu_ech = [cos_integ_estimate_reject(1000) for _ in range(2000)]\n",
    "show_stats(reject_mu_ech)"
   ]
  },
  {
   "cell_type": "markdown",
   "metadata": {},
   "source": [
    "#### Pour finir le TP\n",
    "\n",
    "Pour les 2 méthodes :\n",
    "\n",
    "- Calculer intégrale\n",
    "- On calule plein de $\\hat{\\mu}_n$, on checke avec la limite théorique\n",
    "- On checke que ça marche avec le TCL\n",
    "- Faire un petit bilan (qu'est-ce qu'on va utiliser au final, pourquoi, tout ça)\n",
    "\n",
    "Probabilité d'acceptation théorique, empirique\n"
   ]
  }
 ],
 "metadata": {
  "kernelspec": {
   "display_name": "SOD333-3.11.2",
   "language": "python",
   "name": "python3"
  },
  "language_info": {
   "codemirror_mode": {
    "name": "ipython",
    "version": 3
   },
   "file_extension": ".py",
   "mimetype": "text/x-python",
   "name": "python",
   "nbconvert_exporter": "python",
   "pygments_lexer": "ipython3",
   "version": "3.11.2"
  },
  "orig_nbformat": 4
 },
 "nbformat": 4,
 "nbformat_minor": 2
}
