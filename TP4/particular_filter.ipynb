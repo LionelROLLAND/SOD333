{
 "cells": [
  {
   "cell_type": "code",
   "execution_count": null,
   "metadata": {},
   "outputs": [],
   "source": [
    "from math import ceil, exp\n",
    "from scipy.io import loadmat\n",
    "import numpy as np\n",
    "import matplotlib.pyplot as plt"
   ]
  },
  {
   "cell_type": "code",
   "execution_count": null,
   "metadata": {},
   "outputs": [],
   "source": [
    "data = loadmat(\"carte_centreMetres.mat\")\n",
    "h_mat, x_val, y_val = data[\"h_MNT\"], data[\"x_MNT\"][0], data[\"y_MNT\"][0]"
   ]
  },
  {
   "cell_type": "code",
   "execution_count": null,
   "metadata": {},
   "outputs": [],
   "source": [
    "def h_mnt(x_float: float, y_float: float):\n",
    "    x_floor, y_floor = (\n",
    "        np.searchsorted(x_val, x_float) - 1,\n",
    "        np.searchsorted(y_val, y_float) - 1,\n",
    "    )\n",
    "    alpha_x = (x_float - x_val[x_floor]) / (x_val[x_floor + 1] - x_val[x_floor])\n",
    "    interp_y_floor = (\n",
    "        alpha_x * h_mat[x_floor + 1, y_floor] + (1 - alpha_x) * h_mat[x_floor, y_floor]\n",
    "    )\n",
    "    interp_y_ceil = (\n",
    "        alpha_x * h_mat[x_floor + 1, y_floor + 1]\n",
    "        + (1 - alpha_x) * h_mat[x_floor, y_floor + 1]\n",
    "    )\n",
    "    alpha_y = (y_float - y_val[y_floor]) / (y_val[y_floor + 1] - y_val[y_floor])\n",
    "    return alpha_y * interp_y_ceil + (1 - alpha_y) * interp_y_floor"
   ]
  },
  {
   "cell_type": "code",
   "execution_count": null,
   "metadata": {},
   "outputs": [],
   "source": [
    "fig = plt.figure()\n",
    "ax = fig.add_axes((0, 0, 1, 1))\n",
    "ax.pcolormesh(x_val, y_val, h_mat)"
   ]
  },
  {
   "cell_type": "code",
   "execution_count": null,
   "metadata": {},
   "outputs": [],
   "source": [
    "DT = 1\n",
    "PHI = np.array(\n",
    "    [\n",
    "        [1, 0, 0, DT, 0, 0],\n",
    "        [0, 1, 0, 0, DT, 0],\n",
    "        [0, 0, 1, 0, 0, DT],\n",
    "        [0, 0, 0, 1, 0, 0],\n",
    "        [0, 0, 0, 0, 1, 0],\n",
    "        [0, 0, 0, 0, 0, 1],\n",
    "    ]\n",
    ")\n",
    "CAP_AVION = 45 * np.pi / 180\n",
    "V_AVION = 300 * 1000 / 3600\n",
    "LONG_TRAJET = 60 * 1000\n",
    "NB_IT = ceil(LONG_TRAJET / (DT * V_AVION))\n",
    "VX = V_AVION * np.cos(CAP_AVION)\n",
    "VY = V_AVION * np.sin(CAP_AVION)\n",
    "ETAT_INIT = np.array([[150000], [150000], [8000], [VX], [VY], [0]])\n",
    "SIGMA_BRUIT = 30\n",
    "SIGMA_X = 3000\n",
    "SIGMA_Y = 3000\n",
    "SIGMA_Z = 500\n",
    "SIGMA_VX = SIGMA_VY = SIGMA_VZ = 5\n",
    "P_0 = np.diag(\n",
    "    [\n",
    "        SIGMA_X**2,\n",
    "        SIGMA_Y**2,\n",
    "        SIGMA_Z**2,\n",
    "        SIGMA_VX**2,\n",
    "        SIGMA_VY**2,\n",
    "        SIGMA_VZ**2,\n",
    "    ]\n",
    ")\n",
    "N_PART = 5000"
   ]
  },
  {
   "cell_type": "code",
   "execution_count": null,
   "metadata": {},
   "outputs": [],
   "source": [
    "x_avion = ETAT_INIT[0] + VX * np.array(range(NB_IT))\n",
    "y_avion = ETAT_INIT[1] + VY * np.array(range(NB_IT))\n",
    "z_avion = ETAT_INIT[2] * np.ones(shape=(NB_IT,))\n",
    "etat_avion = np.array([x_avion, y_avion, z_avion])"
   ]
  },
  {
   "cell_type": "code",
   "execution_count": null,
   "metadata": {},
   "outputs": [],
   "source": [
    "fig = plt.figure()\n",
    "ax = fig.add_axes((0, 0, 1, 1))\n",
    "ax.set_ylim(y_val[-1], y_val[0])\n",
    "ax.plot(etat_avion[0], etat_avion[1], color=\"red\")\n",
    "ax.pcolormesh(x_val, y_val, h_mat)"
   ]
  },
  {
   "cell_type": "code",
   "execution_count": null,
   "metadata": {},
   "outputs": [],
   "source": [
    "rd = np.random.default_rng(20)\n",
    "# gamma = np.linalg.cholesky(P_0)"
   ]
  },
  {
   "cell_type": "code",
   "execution_count": null,
   "metadata": {},
   "outputs": [],
   "source": [
    "epsilon_bruit = rd.normal(loc=0, scale=SIGMA_BRUIT, size=NB_IT)\n",
    "h_mes = (\n",
    "    z_avion\n",
    "    - np.array([h_mnt(x, y) for (x, y) in zip(x_avion, y_avion)])\n",
    "    + epsilon_bruit\n",
    ")"
   ]
  },
  {
   "cell_type": "code",
   "execution_count": null,
   "metadata": {},
   "outputs": [],
   "source": [
    "epsilon: np.ndarray = rd.multivariate_normal(\n",
    "    mean=6 * [0], cov=P_0, size=N_PART\n",
    ").reshape((N_PART, 6, 1))"
   ]
  },
  {
   "cell_type": "code",
   "execution_count": null,
   "metadata": {},
   "outputs": [],
   "source": [
    "particles = np.empty(shape=(NB_IT, N_PART, 6, 1))\n",
    "weights = np.empty(shape=(NB_IT, N_PART))\n",
    "particles[0] = ETAT_INIT + epsilon"
   ]
  },
  {
   "cell_type": "code",
   "execution_count": null,
   "metadata": {},
   "outputs": [],
   "source": [
    "fig = plt.figure()\n",
    "ax = fig.add_axes((0, 0, 1, 1))\n",
    "ax.set_ylim(y_val[-1], y_val[0])\n",
    "ax.plot(etat_avion[0], etat_avion[1], color=\"red\")\n",
    "ax.pcolormesh(x_val, y_val, h_mat)\n",
    "ax.scatter(\n",
    "    particles[0, :, 0, 0], particles[0, :, 1, 0], color=\"pink\", marker=\".\", s=0.5\n",
    ")"
   ]
  },
  {
   "cell_type": "code",
   "execution_count": null,
   "metadata": {},
   "outputs": [],
   "source": [
    "for k in range(NB_IT - 1):\n",
    "    part_pred = np.empty(shape=(N_PART, 6, 1))\n",
    "    for i in range(N_PART):\n",
    "        part_pred[i] = PHI @ particles[k, i, :, :]\n",
    "        ecart = h_mes[k + 1] - (\n",
    "            part_pred[i, 2, 0] - h_mnt(part_pred[i, 0, 0], part_pred[i, 1, 0])\n",
    "        )\n",
    "        weights[k + 1, i] = weights[k, i] * exp(\n",
    "            -(1 / (2 * SIGMA_BRUIT**2)) * ecart**2\n",
    "        )\n",
    "    weights[k + 1, :] /= sum(weights[k + 1, :])"
   ]
  }
 ],
 "metadata": {
  "kernelspec": {
   "display_name": "SOD333-3.11.2",
   "language": "python",
   "name": "python3"
  },
  "language_info": {
   "codemirror_mode": {
    "name": "ipython",
    "version": 3
   },
   "file_extension": ".py",
   "mimetype": "text/x-python",
   "name": "python",
   "nbconvert_exporter": "python",
   "pygments_lexer": "ipython3",
   "version": "3.11.2"
  },
  "orig_nbformat": 4
 },
 "nbformat": 4,
 "nbformat_minor": 2
}
