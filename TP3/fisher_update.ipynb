{
 "cells": [
  {
   "cell_type": "code",
   "execution_count": null,
   "metadata": {},
   "outputs": [],
   "source": [
    "import numpy as np\n",
    "import matplotlib.pyplot as plt"
   ]
  },
  {
   "cell_type": "code",
   "execution_count": null,
   "metadata": {},
   "outputs": [],
   "source": [
    "def grad_hk(x_k0: float, y_k0: float, x_k: float, y_k: float):\n",
    "    return np.array(\n",
    "        [\n",
    "            [-(y_k - y_k0) / ((x_k - x_k0) ** 2 + (y_k - y_k0) ** 2)],\n",
    "            [(x_k - x_k0) / ((x_k - x_k0) ** 2 + (y_k - y_k0) ** 2)],\n",
    "            [0],\n",
    "            [0],\n",
    "        ]\n",
    "    )\n",
    "\n",
    "\n",
    "def update_fisher(\n",
    "    p_0: np.ndarray,\n",
    "    delta_t: float,\n",
    "    n_before_turn: int,\n",
    "    n_tot: int,\n",
    "    phi: float,\n",
    "    v_0: float,\n",
    "    sigma: float,\n",
    "    x_init: np.ndarray,\n",
    "):\n",
    "    speed_x = x_init[2, 0]\n",
    "    speed_y = x_init[3, 0]\n",
    "    pos_x_init = x_init[0, 0]\n",
    "    pos_y_init = x_init[1, 0]\n",
    "    speed_x_0_plus = v_0 * np.cos(phi)\n",
    "    speed_y_0_plus = v_0 * np.sin(phi)\n",
    "    big_phi = np.array(\n",
    "        [[1, 0, delta_t, 0], [0, 1, 0, delta_t], [0, 0, 1, 0], [0, 0, 0, 1]]\n",
    "    )\n",
    "    inv_big_phi = np.linalg.inv(big_phi)\n",
    "    fisher: np.ndarray = np.empty(shape=(n_tot, *(p_0.shape)))\n",
    "    fisher[0] = np.linalg.inv(p_0)\n",
    "    for j in range(n_tot - 1):\n",
    "        if j + 1 <= n_before_turn:\n",
    "            pos_x_0 = (j + 1) * v_0 * delta_t\n",
    "            pos_y_0 = 0\n",
    "        else:\n",
    "            pos_x_0 = (\n",
    "                n_before_turn * v_0 * delta_t\n",
    "                + (j + 1 - n_before_turn) * speed_x_0_plus * delta_t\n",
    "            )\n",
    "            pos_y_0 = (j + 1 - n_before_turn) * speed_y_0_plus * delta_t\n",
    "        pos_x = pos_x_init + (j + 1) * speed_x\n",
    "        pos_y = pos_y_init + (j + 1) * speed_y\n",
    "        evaluated_grad = grad_hk(x_k0=pos_x_0, y_k0=pos_y_0, x_k=pos_x, y_k=pos_y)\n",
    "        fisher[j + 1] = (\n",
    "            1 / sigma**2\n",
    "        ) * evaluated_grad @ evaluated_grad.T + inv_big_phi.T @ fisher[j] @ inv_big_phi\n",
    "    return fisher"
   ]
  },
  {
   "cell_type": "code",
   "execution_count": null,
   "metadata": {},
   "outputs": [],
   "source": [
    "DELTA_T = 1\n",
    "N_TOT = 100\n",
    "N_BEFORE_TURN = 50\n",
    "\n",
    "PHI_EMETTEUR = -20 * np.pi / 180\n",
    "PHI_OBSERVATEUR = 135 * np.pi / 180\n",
    "V_EMETT = 5\n",
    "V_OBS = 10\n",
    "\n",
    "x_emetteur_init = np.array(\n",
    "    [[2000], [2000], [V_EMETT * np.cos(PHI_EMETTEUR)], [V_EMETT * np.sin(PHI_EMETTEUR)]]\n",
    ")\n",
    "\n",
    "p_0 = np.diag([1000**2, 1000**2, 10**2, 10**2])\n",
    "sigma = 1 * np.pi / 180\n",
    "\n",
    "fisher = update_fisher(\n",
    "    p_0=p_0,\n",
    "    delta_t=DELTA_T,\n",
    "    n_before_turn=N_BEFORE_TURN,\n",
    "    n_tot=N_TOT,\n",
    "    phi=PHI_OBSERVATEUR,\n",
    "    v_0=V_OBS,\n",
    "    sigma=sigma,\n",
    "    x_init=x_emetteur_init,\n",
    ")"
   ]
  },
  {
   "cell_type": "code",
   "execution_count": null,
   "metadata": {},
   "outputs": [],
   "source": [
    "inv_fisher = np.linalg.inv(fisher)\n",
    "\n",
    "x_error = np.sqrt(inv_fisher[:, 0, 0])\n",
    "y_error = np.sqrt(inv_fisher[:, 1, 1])\n",
    "vx_error = np.sqrt(inv_fisher[:, 2, 2])\n",
    "vy_error = np.sqrt(inv_fisher[:, 3, 3])\n",
    "time = DELTA_T * np.array(range(100))"
   ]
  },
  {
   "cell_type": "code",
   "execution_count": null,
   "metadata": {},
   "outputs": [],
   "source": [
    "fig = plt.figure()\n",
    "ax = fig.add_axes((0, 0, 1, 1))\n",
    "ax.plot(time, x_error, color=\"blue\", label=\"$x$ error\")\n",
    "ax.plot(time, y_error, color=\"red\", label=\"$y$ error\")\n",
    "plt.show()"
   ]
  },
  {
   "cell_type": "code",
   "execution_count": null,
   "metadata": {},
   "outputs": [],
   "source": [
    "fig = plt.figure()\n",
    "ax = fig.add_axes((0, 0, 1, 1))\n",
    "ax.plot(time, vx_error, color=\"blue\", label=\"$v_x$ error\")\n",
    "ax.plot(time, vy_error, color=\"red\", label=\"$v_y$ error\")\n",
    "plt.show()"
   ]
  },
  {
   "cell_type": "code",
   "execution_count": null,
   "metadata": {},
   "outputs": [],
   "source": [
    "def optimizing_phi(**kwargs):\n",
    "    test_values = np.linspace(start=0, stop=np.pi, num=100)\n",
    "    res = np.empty(shape=(100,))\n",
    "    for j, phi in enumerate(test_values):\n",
    "        fishers = update_fisher(phi=phi, **kwargs)\n",
    "        end_fisher_inv = np.linalg.inv(fishers[-1])\n",
    "        res[j] = np.sqrt(end_fisher_inv[0, 0] + end_fisher_inv[1, 1])\n",
    "    return test_values, res\n",
    "\n",
    "\n",
    "# A rendre le 10 novembre"
   ]
  },
  {
   "cell_type": "code",
   "execution_count": null,
   "metadata": {},
   "outputs": [],
   "source": [
    "phis, error_of_phi = optimizing_phi(\n",
    "    p_0=p_0,\n",
    "    delta_t=DELTA_T,\n",
    "    n_before_turn=N_BEFORE_TURN,\n",
    "    n_tot=N_TOT,\n",
    "    v_0=V_OBS,\n",
    "    sigma=sigma,\n",
    "    x_init=x_emetteur_init,\n",
    ")"
   ]
  },
  {
   "cell_type": "code",
   "execution_count": null,
   "metadata": {},
   "outputs": [],
   "source": [
    "fig = plt.figure()\n",
    "ax = fig.add_axes((0, 0, 1, 1))\n",
    "ax.plot(phis, error_of_phi, color=\"blue\", label=\"$\\\\sqrt{\\\\sigma_x^2 + \\\\sigma_y^2}$\")\n",
    "plt.show()"
   ]
  }
 ],
 "metadata": {
  "kernelspec": {
   "display_name": "SOD333-3.11.2",
   "language": "python",
   "name": "python3"
  },
  "language_info": {
   "codemirror_mode": {
    "name": "ipython",
    "version": 3
   },
   "file_extension": ".py",
   "mimetype": "text/x-python",
   "name": "python",
   "nbconvert_exporter": "python",
   "pygments_lexer": "ipython3",
   "version": "3.11.2"
  },
  "orig_nbformat": 4
 },
 "nbformat": 4,
 "nbformat_minor": 2
}
